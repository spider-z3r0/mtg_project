{
 "cells": [
  {
   "cell_type": "code",
   "execution_count": 41,
   "source": [
    "%matplotlib inline\r\n",
    "import pandas as pd\r\n",
    "import matplotlib as plt\r\n",
    "from pathlib import Path\r\n",
    "import requests as rq\r\n",
    "\r\n",
    "def movecol(df, cols_to_move=[], ref_col='', place='After'):\r\n",
    "    \r\n",
    "    cols = df.columns.tolist()\r\n",
    "    if place == 'After':\r\n",
    "        seg1 = cols[:list(cols).index(ref_col) + 1]\r\n",
    "        seg2 = cols_to_move\r\n",
    "    if place == 'Before':\r\n",
    "        seg1 = cols[:list(cols).index(ref_col)]\r\n",
    "        seg2 = cols_to_move + [ref_col]\r\n",
    "    \r\n",
    "    seg1 = [i for i in seg1 if i not in seg2]\r\n",
    "    seg3 = [i for i in cols if i not in seg1 + seg2]\r\n",
    "    \r\n",
    "    return(df[seg1 + seg2 + seg3])\r\n",
    "\r\n",
    "\r\n",
    "def get_set(url):\r\n",
    "    '''getting data from scry fall'''\r\n",
    "    s = rq.Session()\r\n",
    "    response = s.get(str(url))\r\n",
    "    orderList = []\r\n",
    "    resp_json = response.json()\r\n",
    "    orderList.append(resp_json[\"data\"])\r\n",
    "    while resp_json.get('has_more'):\r\n",
    "        response = s.get(resp_json['next_page'])\r\n",
    "        resp_json = response.json()\r\n",
    "        orderList.append(resp_json[\"data\"])\r\n",
    "        orderList= orderList[0]+orderList[1]\r\n",
    "        df=pd.DataFrame(orderList)\r\n",
    "        sels = [\"name\", \"type_line\", \"colors\", \"mana_cost\", \"cmc\", \"oracle_text\", \"power\", \"toughness\", \"keywords\", \"loyalty\", \"rarity\"]\r\n",
    "        df = df[sels]\r\n",
    "        df[['Super Type','Sub type']] = df['type_line'].apply(lambda x: pd.Series(str(x).split(\"—\")))\r\n",
    "        df = df.drop(['type_line'], axis=1)\r\n",
    "        df.columns = df.columns.str.replace('_', ' ')\r\n",
    "        df.columns = df.columns.str.capitalize()\r\n",
    "        df = movecol(df, \r\n",
    "            cols_to_move=['Super type','Sub type'], \r\n",
    "            ref_col='Name',\r\n",
    "            place='After')\r\n",
    "        return(df)\r\n",
    "        \r\n",
    "        \r\n",
    "\r\n",
    "ktk = get_set(\"https://api.scryfall.com/cards/search?q=set:ktk\")\r\n",
    "\r\n",
    "print(ktk.columns)"
   ],
   "outputs": [
    {
     "output_type": "stream",
     "name": "stdout",
     "text": [
      "Index(['Name', 'Super type', 'Sub type', 'Colors', 'Mana cost', 'Cmc',\n",
      "       'Oracle text', 'Power', 'Toughness', 'Keywords', 'Loyalty', 'Rarity'],\n",
      "      dtype='object')\n"
     ]
    }
   ],
   "metadata": {}
  },
  {
   "cell_type": "code",
   "execution_count": 42,
   "source": [
    "d = ktk['Colors'].value_counts()\r\n",
    "\r\n",
    "plt = d.plot(kind = 'bar')\r\n",
    "\r\n"
   ],
   "outputs": [
    {
     "output_type": "display_data",
     "data": {
      "text/plain": [
       "<Figure size 432x288 with 1 Axes>"
      ],
      "image/png": "[encoded data removed]"
     },
     "metadata": {
      "needs_background": "light"
     }
    }
   ],
   "metadata": {}
  }
 ],
 "metadata": {
  "orig_nbformat": 4,
  "language_info": {
   "name": "python",
   "version": "3.8.8",
   "mimetype": "text/x-python",
   "codemirror_mode": {
    "name": "ipython",
    "version": 3
   },
   "pygments_lexer": "ipython3",
   "nbconvert_exporter": "python",
   "file_extension": ".py"
  },
  "kernelspec": {
   "name": "python3",
   "display_name": "Python 3.8.8 64-bit ('base': conda)"
  },
  "interpreter": {
   "hash": "cf47e0d800e150d85db398e5bab4b0464819e165e213c9e8120afa7fb2594594"
  }
 },
 "nbformat": 4,
 "nbformat_minor": 2
}